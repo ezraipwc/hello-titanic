{
 "cells": [
  {
   "cell_type": "code",
   "execution_count": 17,
   "metadata": {
    "collapsed": true
   },
   "outputs": [],
   "source": [
    "import numpy as np\n",
    "import pandas as pd\n",
    "pd.options.display.max_columns = 20\n",
    "import matplotlib.pyplot as plt\n",
    "import seaborn as sns\n",
    "\n",
    "%matplotlib inline"
   ]
  },
  {
   "cell_type": "code",
   "execution_count": 18,
   "metadata": {
    "collapsed": true
   },
   "outputs": [],
   "source": [
    "# To display all results in one cell\n",
    "from IPython.core.interactiveshell import InteractiveShell\n",
    "InteractiveShell.ast_node_interactivity = \"all\""
   ]
  },
  {
   "cell_type": "code",
   "execution_count": 19,
   "metadata": {
    "collapsed": true
   },
   "outputs": [],
   "source": [
    "# Import csv file and store them as pandas dataframe\n",
    "test = pd.read_csv(\"test.csv\")\n",
    "train = pd.read_csv(\"train.csv\")"
   ]
  },
  {
   "cell_type": "code",
   "execution_count": 20,
   "metadata": {
    "collapsed": true
   },
   "outputs": [],
   "source": [
    "total = pd.concat([train,test],ignore_index=True)"
   ]
  },
  {
   "cell_type": "code",
   "execution_count": 21,
   "metadata": {
    "collapsed": true
   },
   "outputs": [],
   "source": [
    "#Convert the sex label of passengers into boolean values, where male = 1 and non-male =0\n",
    "total['Sex'] = (total['Sex'] == 'male')*1"
   ]
  },
  {
   "cell_type": "code",
   "execution_count": 22,
   "metadata": {
    "collapsed": true
   },
   "outputs": [],
   "source": [
    "#Pclass has 3 classes of data: 1, 2, 3\n",
    "total['Pclass1'] = (total['Pclass'] == 1)*1\n",
    "total['Pclass2'] = (total['Pclass'] == 2)*1\n",
    "total['Pclass3'] = (total['Pclass'] == 3)*1"
   ]
  },
  {
   "cell_type": "code",
   "execution_count": 23,
   "metadata": {
    "collapsed": true
   },
   "outputs": [],
   "source": [
    "#Embarkement has 3 classes of data: S, C, Q.\n",
    "total['EmbarkedC'] = (total['Embarked'] == 'C')*1\n",
    "total['EmbarkedS'] = (total['Embarked'] == 'S')*1\n",
    "total['EmbarkedQ'] = (total['Embarked'] == 'Q')*1"
   ]
  },
  {
   "cell_type": "code",
   "execution_count": 24,
   "metadata": {},
   "outputs": [
    {
     "data": {
      "text/html": [
       "<div>\n",
       "<style>\n",
       "    .dataframe thead tr:only-child th {\n",
       "        text-align: right;\n",
       "    }\n",
       "\n",
       "    .dataframe thead th {\n",
       "        text-align: left;\n",
       "    }\n",
       "\n",
       "    .dataframe tbody tr th {\n",
       "        vertical-align: top;\n",
       "    }\n",
       "</style>\n",
       "<table border=\"1\" class=\"dataframe\">\n",
       "  <thead>\n",
       "    <tr style=\"text-align: right;\">\n",
       "      <th></th>\n",
       "      <th>Age</th>\n",
       "      <th>Cabin</th>\n",
       "      <th>Embarked</th>\n",
       "      <th>Fare</th>\n",
       "      <th>Name</th>\n",
       "      <th>Parch</th>\n",
       "      <th>PassengerId</th>\n",
       "      <th>Pclass</th>\n",
       "      <th>Sex</th>\n",
       "      <th>SibSp</th>\n",
       "      <th>Survived</th>\n",
       "      <th>Ticket</th>\n",
       "      <th>Pclass1</th>\n",
       "      <th>Pclass2</th>\n",
       "      <th>Pclass3</th>\n",
       "      <th>EmbarkedC</th>\n",
       "      <th>EmbarkedS</th>\n",
       "      <th>EmbarkedQ</th>\n",
       "    </tr>\n",
       "  </thead>\n",
       "  <tbody>\n",
       "    <tr>\n",
       "      <th>5</th>\n",
       "      <td>NaN</td>\n",
       "      <td>NaN</td>\n",
       "      <td>Q</td>\n",
       "      <td>8.4583</td>\n",
       "      <td>Moran, Mr. James</td>\n",
       "      <td>0</td>\n",
       "      <td>6</td>\n",
       "      <td>3</td>\n",
       "      <td>1</td>\n",
       "      <td>0</td>\n",
       "      <td>0.0</td>\n",
       "      <td>330877</td>\n",
       "      <td>0</td>\n",
       "      <td>0</td>\n",
       "      <td>1</td>\n",
       "      <td>0</td>\n",
       "      <td>0</td>\n",
       "      <td>1</td>\n",
       "    </tr>\n",
       "    <tr>\n",
       "      <th>17</th>\n",
       "      <td>NaN</td>\n",
       "      <td>NaN</td>\n",
       "      <td>S</td>\n",
       "      <td>13.0000</td>\n",
       "      <td>Williams, Mr. Charles Eugene</td>\n",
       "      <td>0</td>\n",
       "      <td>18</td>\n",
       "      <td>2</td>\n",
       "      <td>1</td>\n",
       "      <td>0</td>\n",
       "      <td>1.0</td>\n",
       "      <td>244373</td>\n",
       "      <td>0</td>\n",
       "      <td>1</td>\n",
       "      <td>0</td>\n",
       "      <td>0</td>\n",
       "      <td>1</td>\n",
       "      <td>0</td>\n",
       "    </tr>\n",
       "    <tr>\n",
       "      <th>19</th>\n",
       "      <td>NaN</td>\n",
       "      <td>NaN</td>\n",
       "      <td>C</td>\n",
       "      <td>7.2250</td>\n",
       "      <td>Masselmani, Mrs. Fatima</td>\n",
       "      <td>0</td>\n",
       "      <td>20</td>\n",
       "      <td>3</td>\n",
       "      <td>0</td>\n",
       "      <td>0</td>\n",
       "      <td>1.0</td>\n",
       "      <td>2649</td>\n",
       "      <td>0</td>\n",
       "      <td>0</td>\n",
       "      <td>1</td>\n",
       "      <td>1</td>\n",
       "      <td>0</td>\n",
       "      <td>0</td>\n",
       "    </tr>\n",
       "    <tr>\n",
       "      <th>26</th>\n",
       "      <td>NaN</td>\n",
       "      <td>NaN</td>\n",
       "      <td>C</td>\n",
       "      <td>7.2250</td>\n",
       "      <td>Emir, Mr. Farred Chehab</td>\n",
       "      <td>0</td>\n",
       "      <td>27</td>\n",
       "      <td>3</td>\n",
       "      <td>1</td>\n",
       "      <td>0</td>\n",
       "      <td>0.0</td>\n",
       "      <td>2631</td>\n",
       "      <td>0</td>\n",
       "      <td>0</td>\n",
       "      <td>1</td>\n",
       "      <td>1</td>\n",
       "      <td>0</td>\n",
       "      <td>0</td>\n",
       "    </tr>\n",
       "    <tr>\n",
       "      <th>28</th>\n",
       "      <td>NaN</td>\n",
       "      <td>NaN</td>\n",
       "      <td>Q</td>\n",
       "      <td>7.8792</td>\n",
       "      <td>O'Dwyer, Miss. Ellen \"Nellie\"</td>\n",
       "      <td>0</td>\n",
       "      <td>29</td>\n",
       "      <td>3</td>\n",
       "      <td>0</td>\n",
       "      <td>0</td>\n",
       "      <td>1.0</td>\n",
       "      <td>330959</td>\n",
       "      <td>0</td>\n",
       "      <td>0</td>\n",
       "      <td>1</td>\n",
       "      <td>0</td>\n",
       "      <td>0</td>\n",
       "      <td>1</td>\n",
       "    </tr>\n",
       "    <tr>\n",
       "      <th>29</th>\n",
       "      <td>NaN</td>\n",
       "      <td>NaN</td>\n",
       "      <td>S</td>\n",
       "      <td>7.8958</td>\n",
       "      <td>Todoroff, Mr. Lalio</td>\n",
       "      <td>0</td>\n",
       "      <td>30</td>\n",
       "      <td>3</td>\n",
       "      <td>1</td>\n",
       "      <td>0</td>\n",
       "      <td>0.0</td>\n",
       "      <td>349216</td>\n",
       "      <td>0</td>\n",
       "      <td>0</td>\n",
       "      <td>1</td>\n",
       "      <td>0</td>\n",
       "      <td>1</td>\n",
       "      <td>0</td>\n",
       "    </tr>\n",
       "    <tr>\n",
       "      <th>31</th>\n",
       "      <td>NaN</td>\n",
       "      <td>B78</td>\n",
       "      <td>C</td>\n",
       "      <td>146.5208</td>\n",
       "      <td>Spencer, Mrs. William Augustus (Marie Eugenie)</td>\n",
       "      <td>0</td>\n",
       "      <td>32</td>\n",
       "      <td>1</td>\n",
       "      <td>0</td>\n",
       "      <td>1</td>\n",
       "      <td>1.0</td>\n",
       "      <td>PC 17569</td>\n",
       "      <td>1</td>\n",
       "      <td>0</td>\n",
       "      <td>0</td>\n",
       "      <td>1</td>\n",
       "      <td>0</td>\n",
       "      <td>0</td>\n",
       "    </tr>\n",
       "    <tr>\n",
       "      <th>32</th>\n",
       "      <td>NaN</td>\n",
       "      <td>NaN</td>\n",
       "      <td>Q</td>\n",
       "      <td>7.7500</td>\n",
       "      <td>Glynn, Miss. Mary Agatha</td>\n",
       "      <td>0</td>\n",
       "      <td>33</td>\n",
       "      <td>3</td>\n",
       "      <td>0</td>\n",
       "      <td>0</td>\n",
       "      <td>1.0</td>\n",
       "      <td>335677</td>\n",
       "      <td>0</td>\n",
       "      <td>0</td>\n",
       "      <td>1</td>\n",
       "      <td>0</td>\n",
       "      <td>0</td>\n",
       "      <td>1</td>\n",
       "    </tr>\n",
       "    <tr>\n",
       "      <th>36</th>\n",
       "      <td>NaN</td>\n",
       "      <td>NaN</td>\n",
       "      <td>C</td>\n",
       "      <td>7.2292</td>\n",
       "      <td>Mamee, Mr. Hanna</td>\n",
       "      <td>0</td>\n",
       "      <td>37</td>\n",
       "      <td>3</td>\n",
       "      <td>1</td>\n",
       "      <td>0</td>\n",
       "      <td>1.0</td>\n",
       "      <td>2677</td>\n",
       "      <td>0</td>\n",
       "      <td>0</td>\n",
       "      <td>1</td>\n",
       "      <td>1</td>\n",
       "      <td>0</td>\n",
       "      <td>0</td>\n",
       "    </tr>\n",
       "    <tr>\n",
       "      <th>42</th>\n",
       "      <td>NaN</td>\n",
       "      <td>NaN</td>\n",
       "      <td>C</td>\n",
       "      <td>7.8958</td>\n",
       "      <td>Kraeff, Mr. Theodor</td>\n",
       "      <td>0</td>\n",
       "      <td>43</td>\n",
       "      <td>3</td>\n",
       "      <td>1</td>\n",
       "      <td>0</td>\n",
       "      <td>0.0</td>\n",
       "      <td>349253</td>\n",
       "      <td>0</td>\n",
       "      <td>0</td>\n",
       "      <td>1</td>\n",
       "      <td>1</td>\n",
       "      <td>0</td>\n",
       "      <td>0</td>\n",
       "    </tr>\n",
       "  </tbody>\n",
       "</table>\n",
       "</div>"
      ],
      "text/plain": [
       "    Age Cabin Embarked      Fare  \\\n",
       "5   NaN   NaN        Q    8.4583   \n",
       "17  NaN   NaN        S   13.0000   \n",
       "19  NaN   NaN        C    7.2250   \n",
       "26  NaN   NaN        C    7.2250   \n",
       "28  NaN   NaN        Q    7.8792   \n",
       "29  NaN   NaN        S    7.8958   \n",
       "31  NaN   B78        C  146.5208   \n",
       "32  NaN   NaN        Q    7.7500   \n",
       "36  NaN   NaN        C    7.2292   \n",
       "42  NaN   NaN        C    7.8958   \n",
       "\n",
       "                                              Name  Parch  PassengerId  \\\n",
       "5                                 Moran, Mr. James      0            6   \n",
       "17                    Williams, Mr. Charles Eugene      0           18   \n",
       "19                         Masselmani, Mrs. Fatima      0           20   \n",
       "26                         Emir, Mr. Farred Chehab      0           27   \n",
       "28                   O'Dwyer, Miss. Ellen \"Nellie\"      0           29   \n",
       "29                             Todoroff, Mr. Lalio      0           30   \n",
       "31  Spencer, Mrs. William Augustus (Marie Eugenie)      0           32   \n",
       "32                        Glynn, Miss. Mary Agatha      0           33   \n",
       "36                                Mamee, Mr. Hanna      0           37   \n",
       "42                             Kraeff, Mr. Theodor      0           43   \n",
       "\n",
       "    Pclass  Sex  SibSp  Survived    Ticket  Pclass1  Pclass2  Pclass3  \\\n",
       "5        3    1      0       0.0    330877        0        0        1   \n",
       "17       2    1      0       1.0    244373        0        1        0   \n",
       "19       3    0      0       1.0      2649        0        0        1   \n",
       "26       3    1      0       0.0      2631        0        0        1   \n",
       "28       3    0      0       1.0    330959        0        0        1   \n",
       "29       3    1      0       0.0    349216        0        0        1   \n",
       "31       1    0      1       1.0  PC 17569        1        0        0   \n",
       "32       3    0      0       1.0    335677        0        0        1   \n",
       "36       3    1      0       1.0      2677        0        0        1   \n",
       "42       3    1      0       0.0    349253        0        0        1   \n",
       "\n",
       "    EmbarkedC  EmbarkedS  EmbarkedQ  \n",
       "5           0          0          1  \n",
       "17          0          1          0  \n",
       "19          1          0          0  \n",
       "26          1          0          0  \n",
       "28          0          0          1  \n",
       "29          0          1          0  \n",
       "31          1          0          0  \n",
       "32          0          0          1  \n",
       "36          1          0          0  \n",
       "42          1          0          0  "
      ]
     },
     "execution_count": 24,
     "metadata": {},
     "output_type": "execute_result"
    }
   ],
   "source": [
    "total[total['Age'].isnull()].head(10)"
   ]
  },
  {
   "cell_type": "code",
   "execution_count": 25,
   "metadata": {},
   "outputs": [
    {
     "data": {
      "text/html": [
       "<div>\n",
       "<style>\n",
       "    .dataframe thead tr:only-child th {\n",
       "        text-align: right;\n",
       "    }\n",
       "\n",
       "    .dataframe thead th {\n",
       "        text-align: left;\n",
       "    }\n",
       "\n",
       "    .dataframe tbody tr th {\n",
       "        vertical-align: top;\n",
       "    }\n",
       "</style>\n",
       "<table border=\"1\" class=\"dataframe\">\n",
       "  <thead>\n",
       "    <tr style=\"text-align: right;\">\n",
       "      <th></th>\n",
       "      <th>Age</th>\n",
       "      <th>Fare</th>\n",
       "      <th>Parch</th>\n",
       "      <th>PassengerId</th>\n",
       "      <th>Pclass</th>\n",
       "      <th>Sex</th>\n",
       "      <th>SibSp</th>\n",
       "      <th>Survived</th>\n",
       "      <th>Pclass1</th>\n",
       "      <th>Pclass2</th>\n",
       "      <th>Pclass3</th>\n",
       "      <th>EmbarkedC</th>\n",
       "      <th>EmbarkedS</th>\n",
       "      <th>EmbarkedQ</th>\n",
       "    </tr>\n",
       "  </thead>\n",
       "  <tbody>\n",
       "    <tr>\n",
       "      <th>count</th>\n",
       "      <td>1046.000000</td>\n",
       "      <td>1308.000000</td>\n",
       "      <td>1309.000000</td>\n",
       "      <td>1309.000000</td>\n",
       "      <td>1309.000000</td>\n",
       "      <td>1309.000000</td>\n",
       "      <td>1309.000000</td>\n",
       "      <td>891.000000</td>\n",
       "      <td>1309.000000</td>\n",
       "      <td>1309.000000</td>\n",
       "      <td>1309.000000</td>\n",
       "      <td>1309.000000</td>\n",
       "      <td>1309.000000</td>\n",
       "      <td>1309.000000</td>\n",
       "    </tr>\n",
       "    <tr>\n",
       "      <th>mean</th>\n",
       "      <td>29.881138</td>\n",
       "      <td>33.295479</td>\n",
       "      <td>0.385027</td>\n",
       "      <td>655.000000</td>\n",
       "      <td>2.294882</td>\n",
       "      <td>0.644003</td>\n",
       "      <td>0.498854</td>\n",
       "      <td>0.383838</td>\n",
       "      <td>0.246753</td>\n",
       "      <td>0.211612</td>\n",
       "      <td>0.541635</td>\n",
       "      <td>0.206264</td>\n",
       "      <td>0.698243</td>\n",
       "      <td>0.093965</td>\n",
       "    </tr>\n",
       "    <tr>\n",
       "      <th>std</th>\n",
       "      <td>14.413493</td>\n",
       "      <td>51.758668</td>\n",
       "      <td>0.865560</td>\n",
       "      <td>378.020061</td>\n",
       "      <td>0.837836</td>\n",
       "      <td>0.478997</td>\n",
       "      <td>1.041658</td>\n",
       "      <td>0.486592</td>\n",
       "      <td>0.431287</td>\n",
       "      <td>0.408607</td>\n",
       "      <td>0.498454</td>\n",
       "      <td>0.404777</td>\n",
       "      <td>0.459196</td>\n",
       "      <td>0.291891</td>\n",
       "    </tr>\n",
       "    <tr>\n",
       "      <th>min</th>\n",
       "      <td>0.170000</td>\n",
       "      <td>0.000000</td>\n",
       "      <td>0.000000</td>\n",
       "      <td>1.000000</td>\n",
       "      <td>1.000000</td>\n",
       "      <td>0.000000</td>\n",
       "      <td>0.000000</td>\n",
       "      <td>0.000000</td>\n",
       "      <td>0.000000</td>\n",
       "      <td>0.000000</td>\n",
       "      <td>0.000000</td>\n",
       "      <td>0.000000</td>\n",
       "      <td>0.000000</td>\n",
       "      <td>0.000000</td>\n",
       "    </tr>\n",
       "    <tr>\n",
       "      <th>25%</th>\n",
       "      <td>21.000000</td>\n",
       "      <td>7.895800</td>\n",
       "      <td>0.000000</td>\n",
       "      <td>328.000000</td>\n",
       "      <td>2.000000</td>\n",
       "      <td>0.000000</td>\n",
       "      <td>0.000000</td>\n",
       "      <td>0.000000</td>\n",
       "      <td>0.000000</td>\n",
       "      <td>0.000000</td>\n",
       "      <td>0.000000</td>\n",
       "      <td>0.000000</td>\n",
       "      <td>0.000000</td>\n",
       "      <td>0.000000</td>\n",
       "    </tr>\n",
       "    <tr>\n",
       "      <th>50%</th>\n",
       "      <td>28.000000</td>\n",
       "      <td>14.454200</td>\n",
       "      <td>0.000000</td>\n",
       "      <td>655.000000</td>\n",
       "      <td>3.000000</td>\n",
       "      <td>1.000000</td>\n",
       "      <td>0.000000</td>\n",
       "      <td>0.000000</td>\n",
       "      <td>0.000000</td>\n",
       "      <td>0.000000</td>\n",
       "      <td>1.000000</td>\n",
       "      <td>0.000000</td>\n",
       "      <td>1.000000</td>\n",
       "      <td>0.000000</td>\n",
       "    </tr>\n",
       "    <tr>\n",
       "      <th>75%</th>\n",
       "      <td>39.000000</td>\n",
       "      <td>31.275000</td>\n",
       "      <td>0.000000</td>\n",
       "      <td>982.000000</td>\n",
       "      <td>3.000000</td>\n",
       "      <td>1.000000</td>\n",
       "      <td>1.000000</td>\n",
       "      <td>1.000000</td>\n",
       "      <td>0.000000</td>\n",
       "      <td>0.000000</td>\n",
       "      <td>1.000000</td>\n",
       "      <td>0.000000</td>\n",
       "      <td>1.000000</td>\n",
       "      <td>0.000000</td>\n",
       "    </tr>\n",
       "    <tr>\n",
       "      <th>max</th>\n",
       "      <td>80.000000</td>\n",
       "      <td>512.329200</td>\n",
       "      <td>9.000000</td>\n",
       "      <td>1309.000000</td>\n",
       "      <td>3.000000</td>\n",
       "      <td>1.000000</td>\n",
       "      <td>8.000000</td>\n",
       "      <td>1.000000</td>\n",
       "      <td>1.000000</td>\n",
       "      <td>1.000000</td>\n",
       "      <td>1.000000</td>\n",
       "      <td>1.000000</td>\n",
       "      <td>1.000000</td>\n",
       "      <td>1.000000</td>\n",
       "    </tr>\n",
       "  </tbody>\n",
       "</table>\n",
       "</div>"
      ],
      "text/plain": [
       "               Age         Fare        Parch  PassengerId       Pclass  \\\n",
       "count  1046.000000  1308.000000  1309.000000  1309.000000  1309.000000   \n",
       "mean     29.881138    33.295479     0.385027   655.000000     2.294882   \n",
       "std      14.413493    51.758668     0.865560   378.020061     0.837836   \n",
       "min       0.170000     0.000000     0.000000     1.000000     1.000000   \n",
       "25%      21.000000     7.895800     0.000000   328.000000     2.000000   \n",
       "50%      28.000000    14.454200     0.000000   655.000000     3.000000   \n",
       "75%      39.000000    31.275000     0.000000   982.000000     3.000000   \n",
       "max      80.000000   512.329200     9.000000  1309.000000     3.000000   \n",
       "\n",
       "               Sex        SibSp    Survived      Pclass1      Pclass2  \\\n",
       "count  1309.000000  1309.000000  891.000000  1309.000000  1309.000000   \n",
       "mean      0.644003     0.498854    0.383838     0.246753     0.211612   \n",
       "std       0.478997     1.041658    0.486592     0.431287     0.408607   \n",
       "min       0.000000     0.000000    0.000000     0.000000     0.000000   \n",
       "25%       0.000000     0.000000    0.000000     0.000000     0.000000   \n",
       "50%       1.000000     0.000000    0.000000     0.000000     0.000000   \n",
       "75%       1.000000     1.000000    1.000000     0.000000     0.000000   \n",
       "max       1.000000     8.000000    1.000000     1.000000     1.000000   \n",
       "\n",
       "           Pclass3    EmbarkedC    EmbarkedS    EmbarkedQ  \n",
       "count  1309.000000  1309.000000  1309.000000  1309.000000  \n",
       "mean      0.541635     0.206264     0.698243     0.093965  \n",
       "std       0.498454     0.404777     0.459196     0.291891  \n",
       "min       0.000000     0.000000     0.000000     0.000000  \n",
       "25%       0.000000     0.000000     0.000000     0.000000  \n",
       "50%       1.000000     0.000000     1.000000     0.000000  \n",
       "75%       1.000000     0.000000     1.000000     0.000000  \n",
       "max       1.000000     1.000000     1.000000     1.000000  "
      ]
     },
     "execution_count": 25,
     "metadata": {},
     "output_type": "execute_result"
    },
    {
     "data": {
      "text/plain": [
       "Age            1046\n",
       "Cabin           295\n",
       "Embarked       1307\n",
       "Fare           1308\n",
       "Name           1309\n",
       "Parch          1309\n",
       "PassengerId    1309\n",
       "Pclass         1309\n",
       "Sex            1309\n",
       "SibSp          1309\n",
       "Survived        891\n",
       "Ticket         1309\n",
       "Pclass1        1309\n",
       "Pclass2        1309\n",
       "Pclass3        1309\n",
       "EmbarkedC      1309\n",
       "EmbarkedS      1309\n",
       "EmbarkedQ      1309\n",
       "dtype: int64"
      ]
     },
     "execution_count": 25,
     "metadata": {},
     "output_type": "execute_result"
    }
   ],
   "source": [
    "total.describe()\n",
    "total.count()"
   ]
  },
  {
   "cell_type": "markdown",
   "metadata": {},
   "source": [
    "1 out 1309 of fare entries is missing. 2 out of 1309 Embarked entries are missing. \n",
    "Drop the rows which missed fare/embarked data."
   ]
  },
  {
   "cell_type": "code",
   "execution_count": 32,
   "metadata": {},
   "outputs": [
    {
     "data": {
      "text/plain": [
       "Int64Index([1043], dtype='int64')"
      ]
     },
     "execution_count": 32,
     "metadata": {},
     "output_type": "execute_result"
    },
    {
     "data": {
      "text/plain": [
       "Int64Index([61, 829], dtype='int64')"
      ]
     },
     "execution_count": 32,
     "metadata": {},
     "output_type": "execute_result"
    }
   ],
   "source": [
    "#Find the row with missing fare entry\n",
    "# total[total['Embarked'].isnull()] #age not null\n",
    "# total[total['Fare'].isnull()] #age not null\n",
    "total.index[total['Fare'].isnull()]\n",
    "total.index[total['Embarked'].isnull()]"
   ]
  },
  {
   "cell_type": "code",
   "execution_count": 33,
   "metadata": {
    "collapsed": true
   },
   "outputs": [],
   "source": [
    "total.drop(total.index[[61,829,1043]], inplace=True)"
   ]
  },
  {
   "cell_type": "code",
   "execution_count": 34,
   "metadata": {},
   "outputs": [
    {
     "data": {
      "text/plain": [
       "Age            1043\n",
       "Cabin           293\n",
       "Embarked       1306\n",
       "Fare           1306\n",
       "Name           1306\n",
       "Parch          1306\n",
       "PassengerId    1306\n",
       "Pclass         1306\n",
       "Sex            1306\n",
       "SibSp          1306\n",
       "Survived        889\n",
       "Ticket         1306\n",
       "Pclass1        1306\n",
       "Pclass2        1306\n",
       "Pclass3        1306\n",
       "EmbarkedC      1306\n",
       "EmbarkedS      1306\n",
       "EmbarkedQ      1306\n",
       "dtype: int64"
      ]
     },
     "execution_count": 34,
     "metadata": {},
     "output_type": "execute_result"
    }
   ],
   "source": [
    "total.count()"
   ]
  },
  {
   "cell_type": "code",
   "execution_count": 35,
   "metadata": {},
   "outputs": [
    {
     "data": {
      "text/plain": [
       "Age            1.000000\n",
       "Fare           0.177206\n",
       "Parch         -0.149311\n",
       "PassengerId    0.026757\n",
       "Pclass        -0.409082\n",
       "Sex            0.066006\n",
       "SibSp         -0.242345\n",
       "Survived      -0.082446\n",
       "Pclass1        0.392979\n",
       "Pclass2       -0.012331\n",
       "Pclass3       -0.338691\n",
       "EmbarkedC      0.088604\n",
       "EmbarkedS     -0.073106\n",
       "EmbarkedQ     -0.018490\n",
       "Name: Age, dtype: float64"
      ]
     },
     "execution_count": 35,
     "metadata": {},
     "output_type": "execute_result"
    }
   ],
   "source": [
    "total.corr()['Age']"
   ]
  },
  {
   "cell_type": "markdown",
   "metadata": {},
   "source": [
    "* Try all columns with which their abs(correlations) with age > 0.1\n",
    "* Don't use all dummy variables at one model (e.g. Pclass, Embarked)\n",
    "* Normalize values if needed"
   ]
  },
  {
   "cell_type": "markdown",
   "metadata": {},
   "source": [
    "<h2>Feature Scaling</h2>"
   ]
  },
  {
   "cell_type": "code",
   "execution_count": 14,
   "metadata": {
    "collapsed": true
   },
   "outputs": [],
   "source": [
    "#Standardize for Fare \n",
    "total['FareNormal'] = (total['Fare']-total['Fare'].mean())/total['Fare'].std()"
   ]
  },
  {
   "cell_type": "code",
   "execution_count": 15,
   "metadata": {},
   "outputs": [
    {
     "data": {
      "text/html": [
       "<div>\n",
       "<style>\n",
       "    .dataframe thead tr:only-child th {\n",
       "        text-align: right;\n",
       "    }\n",
       "\n",
       "    .dataframe thead th {\n",
       "        text-align: left;\n",
       "    }\n",
       "\n",
       "    .dataframe tbody tr th {\n",
       "        vertical-align: top;\n",
       "    }\n",
       "</style>\n",
       "<table border=\"1\" class=\"dataframe\">\n",
       "  <thead>\n",
       "    <tr style=\"text-align: right;\">\n",
       "      <th></th>\n",
       "      <th>Age</th>\n",
       "      <th>Fare</th>\n",
       "    </tr>\n",
       "  </thead>\n",
       "  <tbody>\n",
       "    <tr>\n",
       "      <th>Age</th>\n",
       "      <td>1.000000</td>\n",
       "      <td>0.177206</td>\n",
       "    </tr>\n",
       "    <tr>\n",
       "      <th>Fare</th>\n",
       "      <td>0.177206</td>\n",
       "      <td>1.000000</td>\n",
       "    </tr>\n",
       "  </tbody>\n",
       "</table>\n",
       "</div>"
      ],
      "text/plain": [
       "           Age      Fare\n",
       "Age   1.000000  0.177206\n",
       "Fare  0.177206  1.000000"
      ]
     },
     "execution_count": 15,
     "metadata": {},
     "output_type": "execute_result"
    },
    {
     "data": {
      "text/html": [
       "<div>\n",
       "<style>\n",
       "    .dataframe thead tr:only-child th {\n",
       "        text-align: right;\n",
       "    }\n",
       "\n",
       "    .dataframe thead th {\n",
       "        text-align: left;\n",
       "    }\n",
       "\n",
       "    .dataframe tbody tr th {\n",
       "        vertical-align: top;\n",
       "    }\n",
       "</style>\n",
       "<table border=\"1\" class=\"dataframe\">\n",
       "  <thead>\n",
       "    <tr style=\"text-align: right;\">\n",
       "      <th></th>\n",
       "      <th>Age</th>\n",
       "      <th>FareNormal</th>\n",
       "    </tr>\n",
       "  </thead>\n",
       "  <tbody>\n",
       "    <tr>\n",
       "      <th>Age</th>\n",
       "      <td>1.000000</td>\n",
       "      <td>0.177206</td>\n",
       "    </tr>\n",
       "    <tr>\n",
       "      <th>FareNormal</th>\n",
       "      <td>0.177206</td>\n",
       "      <td>1.000000</td>\n",
       "    </tr>\n",
       "  </tbody>\n",
       "</table>\n",
       "</div>"
      ],
      "text/plain": [
       "                 Age  FareNormal\n",
       "Age         1.000000    0.177206\n",
       "FareNormal  0.177206    1.000000"
      ]
     },
     "execution_count": 15,
     "metadata": {},
     "output_type": "execute_result"
    }
   ],
   "source": [
    "total[['Age','Fare']].corr()\n",
    "total[['Age','FareNormal']].corr()"
   ]
  },
  {
   "cell_type": "code",
   "execution_count": 16,
   "metadata": {
    "collapsed": true
   },
   "outputs": [],
   "source": [
    "from sklearn.preprocessing import Normalizer"
   ]
  },
  {
   "cell_type": "code",
   "execution_count": 19,
   "metadata": {
    "collapsed": true
   },
   "outputs": [],
   "source": [
    "farenormal = Normalizer()\n",
    "farel2 = farenormal.transform([total['Fare']])"
   ]
  },
  {
   "cell_type": "code",
   "execution_count": 20,
   "metadata": {
    "collapsed": true
   },
   "outputs": [],
   "source": [
    "total['FareL2'] = farel2.T"
   ]
  },
  {
   "cell_type": "code",
   "execution_count": 21,
   "metadata": {},
   "outputs": [
    {
     "data": {
      "text/html": [
       "<div>\n",
       "<style>\n",
       "    .dataframe thead tr:only-child th {\n",
       "        text-align: right;\n",
       "    }\n",
       "\n",
       "    .dataframe thead th {\n",
       "        text-align: left;\n",
       "    }\n",
       "\n",
       "    .dataframe tbody tr th {\n",
       "        vertical-align: top;\n",
       "    }\n",
       "</style>\n",
       "<table border=\"1\" class=\"dataframe\">\n",
       "  <thead>\n",
       "    <tr style=\"text-align: right;\">\n",
       "      <th></th>\n",
       "      <th>Age</th>\n",
       "      <th>FareL2</th>\n",
       "    </tr>\n",
       "  </thead>\n",
       "  <tbody>\n",
       "    <tr>\n",
       "      <th>Age</th>\n",
       "      <td>1.000000</td>\n",
       "      <td>0.177206</td>\n",
       "    </tr>\n",
       "    <tr>\n",
       "      <th>FareL2</th>\n",
       "      <td>0.177206</td>\n",
       "      <td>1.000000</td>\n",
       "    </tr>\n",
       "  </tbody>\n",
       "</table>\n",
       "</div>"
      ],
      "text/plain": [
       "             Age    FareL2\n",
       "Age     1.000000  0.177206\n",
       "FareL2  0.177206  1.000000"
      ]
     },
     "execution_count": 21,
     "metadata": {},
     "output_type": "execute_result"
    },
    {
     "data": {
      "text/html": [
       "<div>\n",
       "<style>\n",
       "    .dataframe thead tr:only-child th {\n",
       "        text-align: right;\n",
       "    }\n",
       "\n",
       "    .dataframe thead th {\n",
       "        text-align: left;\n",
       "    }\n",
       "\n",
       "    .dataframe tbody tr th {\n",
       "        vertical-align: top;\n",
       "    }\n",
       "</style>\n",
       "<table border=\"1\" class=\"dataframe\">\n",
       "  <thead>\n",
       "    <tr style=\"text-align: right;\">\n",
       "      <th></th>\n",
       "      <th>Age</th>\n",
       "      <th>FareNormal</th>\n",
       "    </tr>\n",
       "  </thead>\n",
       "  <tbody>\n",
       "    <tr>\n",
       "      <th>Age</th>\n",
       "      <td>1.000000</td>\n",
       "      <td>0.177206</td>\n",
       "    </tr>\n",
       "    <tr>\n",
       "      <th>FareNormal</th>\n",
       "      <td>0.177206</td>\n",
       "      <td>1.000000</td>\n",
       "    </tr>\n",
       "  </tbody>\n",
       "</table>\n",
       "</div>"
      ],
      "text/plain": [
       "                 Age  FareNormal\n",
       "Age         1.000000    0.177206\n",
       "FareNormal  0.177206    1.000000"
      ]
     },
     "execution_count": 21,
     "metadata": {},
     "output_type": "execute_result"
    }
   ],
   "source": [
    "#Well I don't really need to scale Fare data but anyway\n",
    "total[['Age','FareL2']].corr()\n",
    "total[['Age','FareNormal']].corr()"
   ]
  },
  {
   "cell_type": "markdown",
   "metadata": {},
   "source": [
    "<h2>Develop Linear Regression Model</h2>"
   ]
  },
  {
   "cell_type": "code",
   "execution_count": 39,
   "metadata": {
    "collapsed": true
   },
   "outputs": [],
   "source": [
    "# To begin, dump all possible values, \n",
    "# despite finding only few useful ones ('Fare', 'Parch', 'SibSp', 'Pclass1','Pclass3')\n",
    "LinAge = total[['Age','Fare', 'Parch', 'SibSp', 'Pclass']]\n",
    "# ,total['SibSp'],total['Pclass1'],total['Pclass3'], total['Pclass']\n",
    "# LinAge = total.drop(['Parch','EmbarkedS','Fare','PassengerId','Survived','Cabin','Embarked','Name','Pclass', 'Ticket', 'Pclass2','EmbarkedQ','FareNormal', 'FareL2'], axis=1)"
   ]
  },
  {
   "cell_type": "code",
   "execution_count": 40,
   "metadata": {},
   "outputs": [],
   "source": [
    "LinAgeTrain = LinAge.dropna()\n",
    "LinAgeTest = LinAge[LinAge['Age'].isnull()]\n",
    "\n",
    "LinAgeTrainX = LinAgeTrain.drop('Age', axis =1)\n",
    "LinAgeTrainY = LinAgeTrain[['Age']]\n",
    "\n",
    "LinAgeTestX = LinAgeTest.drop('Age', axis =1)\n",
    "# LinAgeTestY = LinAgeTest[['Age']] huh?! What am I doing?!?!?"
   ]
  },
  {
   "cell_type": "markdown",
   "metadata": {},
   "source": [
    "<h2>Distribution of Age with other values</h2>"
   ]
  },
  {
   "cell_type": "code",
   "execution_count": 42,
   "metadata": {},
   "outputs": [
    {
     "data": {
      "text/plain": [
       "<matplotlib.axes._subplots.AxesSubplot at 0x109746d68>"
      ]
     },
     "execution_count": 42,
     "metadata": {},
     "output_type": "execute_result"
    },
    {
     "data": {
      "image/png": "[encoded data removed]",
      "text/plain": [
       "<matplotlib.figure.Figure at 0x101c522e8>"
      ]
     },
     "metadata": {},
     "output_type": "display_data"
    }
   ],
   "source": [
    "sns.distplot(LinAgeTrain['Age'], hist=False) #That's not enough. I want division between categories"
   ]
  },
  {
   "cell_type": "code",
   "execution_count": 261,
   "metadata": {
    "collapsed": true
   },
   "outputs": [],
   "source": [
    "# Separate train set into train/dev set\n",
    "from sklearn.model_selection import train_test_split, cross_val_score, KFold\n",
    "from sklearn.metrics import r2_score \n",
    "from sklearn.linear_model import LinearRegression\n",
    "from sklearn.ensemble import RandomForestRegressor"
   ]
  },
  {
   "cell_type": "code",
   "execution_count": 291,
   "metadata": {
    "collapsed": true
   },
   "outputs": [],
   "source": [
    "LinAgeTrainX_train, LinAgeTrainX_dev, LinAgeTrainY_train, LinAgeTrainY_dev = \\\n",
    "train_test_split(LinAgeTrainX, LinAgeTrainY, test_size=0.5, random_state=50)"
   ]
  },
  {
   "cell_type": "code",
   "execution_count": 292,
   "metadata": {
    "collapsed": true
   },
   "outputs": [],
   "source": [
    "AgeRegressor = RandomForestRegressor()"
   ]
  },
  {
   "cell_type": "code",
   "execution_count": 293,
   "metadata": {},
   "outputs": [
    {
     "name": "stderr",
     "output_type": "stream",
     "text": [
      "/Users/jern/anaconda3/lib/python3.6/site-packages/ipykernel_launcher.py:1: DataConversionWarning: A column-vector y was passed when a 1d array was expected. Please change the shape of y to (n_samples,), for example using ravel().\n",
      "  \"\"\"Entry point for launching an IPython kernel.\n"
     ]
    },
    {
     "data": {
      "text/plain": [
       "RandomForestRegressor(bootstrap=True, criterion='mse', max_depth=None,\n",
       "           max_features='auto', max_leaf_nodes=None,\n",
       "           min_impurity_decrease=0.0, min_impurity_split=None,\n",
       "           min_samples_leaf=1, min_samples_split=2,\n",
       "           min_weight_fraction_leaf=0.0, n_estimators=10, n_jobs=1,\n",
       "           oob_score=False, random_state=None, verbose=0, warm_start=False)"
      ]
     },
     "execution_count": 293,
     "metadata": {},
     "output_type": "execute_result"
    }
   ],
   "source": [
    "AgeRegressor.fit(LinAgeTrainX_train.as_matrix(), LinAgeTrainY_train)"
   ]
  },
  {
   "cell_type": "code",
   "execution_count": 294,
   "metadata": {
    "collapsed": true
   },
   "outputs": [],
   "source": [
    "LinAgeTrainY_prime = AgeRegressor.predict(LinAgeTrainX_dev)"
   ]
  },
  {
   "cell_type": "code",
   "execution_count": 298,
   "metadata": {},
   "outputs": [
    {
     "data": {
      "text/plain": [
       "0.08390686977800177"
      ]
     },
     "execution_count": 298,
     "metadata": {},
     "output_type": "execute_result"
    }
   ],
   "source": [
    "r2_score(LinAgeTrainY_dev,LinAgeTrainY_prime)"
   ]
  },
  {
   "cell_type": "code",
   "execution_count": 240,
   "metadata": {},
   "outputs": [
    {
     "data": {
      "text/plain": [
       "Text(0.5,0,'True age')"
      ]
     },
     "execution_count": 240,
     "metadata": {},
     "output_type": "execute_result"
    },
    {
     "data": {
      "text/plain": [
       "Text(0,0.5,'Predicted age')"
      ]
     },
     "execution_count": 240,
     "metadata": {},
     "output_type": "execute_result"
    },
    {
     "data": {
      "text/plain": [
       "Text(0.5,1,'Predicted age vs true age')"
      ]
     },
     "execution_count": 240,
     "metadata": {},
     "output_type": "execute_result"
    },
    {
     "data": {
      "text/plain": [
       "[<matplotlib.axis.XTick at 0x10f234208>,\n",
       " <matplotlib.axis.XTick at 0x11043b908>,\n",
       " <matplotlib.axis.XTick at 0x10f41e518>,\n",
       " <matplotlib.axis.XTick at 0x1124c7278>,\n",
       " <matplotlib.axis.XTick at 0x1124c78d0>,\n",
       " <matplotlib.axis.XTick at 0x1124c7f28>,\n",
       " <matplotlib.axis.XTick at 0x1124ca5c0>,\n",
       " <matplotlib.axis.XTick at 0x1124cac18>,\n",
       " <matplotlib.axis.XTick at 0x1124d12b0>]"
      ]
     },
     "execution_count": 240,
     "metadata": {},
     "output_type": "execute_result"
    },
    {
     "data": {
      "text/plain": [
       "[Text(0,0,'0'),\n",
       " Text(0,0,'10'),\n",
       " Text(0,0,'20'),\n",
       " Text(0,0,'30'),\n",
       " Text(0,0,'40'),\n",
       " Text(0,0,'50'),\n",
       " Text(0,0,'60'),\n",
       " Text(0,0,'70'),\n",
       " Text(0,0,'80')]"
      ]
     },
     "execution_count": 240,
     "metadata": {},
     "output_type": "execute_result"
    },
    {
     "data": {
      "text/plain": [
       "[<matplotlib.axis.YTick at 0x112312400>,\n",
       " <matplotlib.axis.YTick at 0x11231de80>,\n",
       " <matplotlib.axis.YTick at 0x11230b630>,\n",
       " <matplotlib.axis.YTick at 0x1124d1518>,\n",
       " <matplotlib.axis.YTick at 0x1124d1b70>,\n",
       " <matplotlib.axis.YTick at 0x1124d8278>,\n",
       " <matplotlib.axis.YTick at 0x1124d88d0>,\n",
       " <matplotlib.axis.YTick at 0x1124d8f28>,\n",
       " <matplotlib.axis.YTick at 0x1124df5c0>]"
      ]
     },
     "execution_count": 240,
     "metadata": {},
     "output_type": "execute_result"
    },
    {
     "data": {
      "text/plain": [
       "[Text(0,0,'0'),\n",
       " Text(0,0,'10'),\n",
       " Text(0,0,'20'),\n",
       " Text(0,0,'30'),\n",
       " Text(0,0,'40'),\n",
       " Text(0,0,'50'),\n",
       " Text(0,0,'60'),\n",
       " Text(0,0,'70'),\n",
       " Text(0,0,'80')]"
      ]
     },
     "execution_count": 240,
     "metadata": {},
     "output_type": "execute_result"
    },
    {
     "data": {
      "text/plain": [
       "<matplotlib.collections.PathCollection at 0x1124d8be0>"
      ]
     },
     "execution_count": 240,
     "metadata": {},
     "output_type": "execute_result"
    },
    {
     "data": {
      "image/png": "[encoded data removed]",
      "text/plain": [
       "<matplotlib.figure.Figure at 0x111d4b5c0>"
      ]
     },
     "metadata": {},
     "output_type": "display_data"
    }
   ],
   "source": [
    "age_plot = plt.figure()\n",
    "age_ax = age_plot.add_axes([1,1,1,1])\n",
    "\n",
    "age_ax.set_xlabel('True age')\n",
    "age_ax.set_ylabel('Predicted age')\n",
    "age_ax.set_title('Predicted age vs true age')\n",
    "\n",
    "age_ax.set_xticks(range(0,90,10))\n",
    "age_ax.set_xticklabels(range(0,90,10))\n",
    "age_ax.set_yticks(range(0,90,10))\n",
    "age_ax.set_yticklabels(range(0,90,10))\n",
    "\n",
    "age_ax.scatter(x=LinAgeTrainY_dev, y=LinAgeTrainY_prime)\n",
    "# for key, value in species_color.items():\n",
    "#     sepal_ax.scatter(x=iris.SepalLengthCm[iris.Species==key],\n",
    "#          y=iris.SepalWidthCm[iris.Species==key], c=value, label=key)\n",
    "\n",
    "plt.show()\n",
    "plt.close()"
   ]
  },
  {
   "cell_type": "code",
   "execution_count": null,
   "metadata": {
    "collapsed": true
   },
   "outputs": [],
   "source": []
  }
 ],
 "metadata": {
  "kernelspec": {
   "display_name": "Python 3",
   "language": "python",
   "name": "python3"
  },
  "language_info": {
   "codemirror_mode": {
    "name": "ipython",
    "version": 3
   },
   "file_extension": ".py",
   "mimetype": "text/x-python",
   "name": "python",
   "nbconvert_exporter": "python",
   "pygments_lexer": "ipython3",
   "version": "3.6.2"
  }
 },
 "nbformat": 4,
 "nbformat_minor": 2
}
